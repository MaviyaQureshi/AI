{
  "cells": [
    {
      "cell_type": "markdown",
      "metadata": {
        "id": "Ail2LEzZzDPp"
      },
      "source": [
        "BFS"
      ]
    },
    {
      "cell_type": "code",
      "execution_count": 2,
      "metadata": {
        "colab": {
          "base_uri": "https://localhost:8080/"
        },
        "id": "FeUEll2OvSDt",
        "outputId": "1bc86458-07a9-475b-a30c-cbf8f74c52bf"
      },
      "outputs": [
        {
          "name": "stdout",
          "output_type": "stream",
          "text": [
            "Does vertex 0 have a edge with vertex 0 ? Enter 1 for yes 0 for no: \n",
            "Does vertex 0 have a edge with vertex 1 ? Enter 1 for yes 0 for no: \n",
            "Does vertex 0 have a edge with vertex 2 ? Enter 1 for yes 0 for no: \n",
            "Does vertex 0 have a edge with vertex 3 ? Enter 1 for yes 0 for no: \n",
            "Does vertex 1 have a edge with vertex 0 ? Enter 1 for yes 0 for no: \n",
            "Does vertex 1 have a edge with vertex 1 ? Enter 1 for yes 0 for no: \n",
            "Does vertex 1 have a edge with vertex 2 ? Enter 1 for yes 0 for no: \n",
            "Does vertex 1 have a edge with vertex 3 ? Enter 1 for yes 0 for no: \n",
            "Does vertex 2 have a edge with vertex 0 ? Enter 1 for yes 0 for no: \n",
            "Does vertex 2 have a edge with vertex 1 ? Enter 1 for yes 0 for no: \n",
            "Does vertex 2 have a edge with vertex 2 ? Enter 1 for yes 0 for no: \n",
            "Does vertex 2 have a edge with vertex 3 ? Enter 1 for yes 0 for no: \n",
            "Does vertex 3 have a edge with vertex 0 ? Enter 1 for yes 0 for no: \n",
            "Does vertex 3 have a edge with vertex 1 ? Enter 1 for yes 0 for no: \n",
            "Does vertex 3 have a edge with vertex 2 ? Enter 1 for yes 0 for no: \n",
            "Does vertex 3 have a edge with vertex 3 ? Enter 1 for yes 0 for no: \n",
            "Following is Breadth First Traversal starting from vertex  2\n",
            "2 0 3 1 "
          ]
        }
      ],
      "source": [
        "from collections import defaultdict\n",
        "\n",
        "class Graph:\n",
        "\n",
        "\tdef __init__(self):\n",
        "\n",
        "\t\tself.graph = defaultdict(list)\n",
        "\n",
        "\tdef addEdge(self, u, v):\n",
        "\t\tself.graph[u].append(v)\n",
        "\n",
        "\tdef BFS(self, s):\n",
        "\n",
        "\t\tvisited = [False] * (max(self.graph) + 1)\n",
        "\n",
        "\t\tqueue = []\n",
        "\n",
        "\t\tqueue.append(s)\n",
        "\t\tvisited[s] = True\n",
        "\n",
        "\t\twhile queue:\n",
        "\n",
        "\t\t\ts = queue.pop(0)\n",
        "\t\t\tprint(s, end=\" \")\n",
        "\n",
        "\t\t\tfor i in self.graph[s]:\n",
        "\t\t\t\tif visited[i] == False:\n",
        "\t\t\t\t\tqueue.append(i)\n",
        "\t\t\t\t\tvisited[i] = True\n",
        "\n",
        "g = Graph()\n",
        "\n",
        "n = int(input(\"Enter number of vertices in graph: \"))\n",
        "\n",
        "for i in range(n):\n",
        "  for j in range(n):\n",
        "    print(\"Does vertex\", i, \"have a edge with vertex\", j, \"? Enter 1 for yes 0 for no: \")\n",
        "    state = int(input())\n",
        "    if state == 1:\n",
        "      g.addEdge(i, j)\n",
        "\n",
        "start = int(input(\"Enter starting vertex: \"))\n",
        "\n",
        "print(\"Following is Breadth First Traversal starting from vertex \", start)\n",
        "g.BFS(start)"
      ]
    },
    {
      "cell_type": "markdown",
      "metadata": {
        "id": "LXw6FfvszG3P"
      },
      "source": [
        "DFS"
      ]
    },
    {
      "cell_type": "code",
      "execution_count": null,
      "metadata": {
        "colab": {
          "base_uri": "https://localhost:8080/"
        },
        "id": "EFk90nl8zH7i",
        "outputId": "22a793c4-dd91-4888-8bd3-b9ca068f6713"
      },
      "outputs": [
        {
          "name": "stdout",
          "output_type": "stream",
          "text": [
            "Enter number of vertices in graph: 4\n",
            "Does vertex 0 have a edge with vertex 0 ? Enter 1 for yes 0 for no: \n",
            "0\n",
            "Does vertex 0 have a edge with vertex 1 ? Enter 1 for yes 0 for no: \n",
            "1\n",
            "Does vertex 0 have a edge with vertex 2 ? Enter 1 for yes 0 for no: \n",
            "1\n",
            "Does vertex 0 have a edge with vertex 3 ? Enter 1 for yes 0 for no: \n",
            "0\n",
            "Does vertex 1 have a edge with vertex 0 ? Enter 1 for yes 0 for no: \n",
            "0\n",
            "Does vertex 1 have a edge with vertex 1 ? Enter 1 for yes 0 for no: \n",
            "0\n",
            "Does vertex 1 have a edge with vertex 2 ? Enter 1 for yes 0 for no: \n",
            "1\n",
            "Does vertex 1 have a edge with vertex 3 ? Enter 1 for yes 0 for no: \n",
            "0\n",
            "Does vertex 2 have a edge with vertex 0 ? Enter 1 for yes 0 for no: \n",
            "1\n",
            "Does vertex 2 have a edge with vertex 1 ? Enter 1 for yes 0 for no: \n",
            "0\n",
            "Does vertex 2 have a edge with vertex 2 ? Enter 1 for yes 0 for no: \n",
            "0\n",
            "Does vertex 2 have a edge with vertex 3 ? Enter 1 for yes 0 for no: \n",
            "1\n",
            "Does vertex 3 have a edge with vertex 0 ? Enter 1 for yes 0 for no: \n",
            "0\n",
            "Does vertex 3 have a edge with vertex 1 ? Enter 1 for yes 0 for no: \n",
            "0\n",
            "Does vertex 3 have a edge with vertex 2 ? Enter 1 for yes 0 for no: \n",
            "0\n",
            "Does vertex 3 have a edge with vertex 3 ? Enter 1 for yes 0 for no: \n",
            "1\n",
            "Enter starting vertex: 2\n",
            "Following is Depth First Traversal starting from vertex 2\n",
            "2 0 1 3 "
          ]
        }
      ],
      "source": [
        "from collections import defaultdict\n",
        "\n",
        "class Graph:\n",
        "\n",
        "\tdef __init__(self):\n",
        "\n",
        "\t\tself.graph = defaultdict(list)\n",
        "\n",
        "\n",
        "\tdef addEdge(self, u, v):\n",
        "\t\tself.graph[u].append(v)\n",
        "\n",
        "\n",
        "\tdef DFSUtil(self, v, visited):\n",
        "\n",
        "\t\tvisited.add(v)\n",
        "\t\tprint(v, end=' ')\n",
        "\n",
        "\t\tfor neighbour in self.graph[v]:\n",
        "\t\t\tif neighbour not in visited:\n",
        "\t\t\t\tself.DFSUtil(neighbour, visited)\n",
        "\n",
        "\tdef DFS(self, v):\n",
        "\n",
        "\t\tvisited = set()\n",
        "\n",
        "\t\tself.DFSUtil(v, visited)\n",
        "\n",
        "g = Graph()\n",
        "\n",
        "n = int(input(\"Enter number of vertices in graph: \"))\n",
        "\n",
        "for i in range(n):\n",
        "  for j in range(n):\n",
        "    print(\"Does vertex\", i, \"have a edge with vertex\", j, \"? Enter 1 for yes 0 for no: \")\n",
        "    state = int(input())\n",
        "    if state == 1:\n",
        "      g.addEdge(i, j)\n",
        "\n",
        "start = int(input(\"Enter starting vertex: \"))\n",
        "\n",
        "print(\"Following is Depth First Traversal starting from vertex\", start)\n",
        "g.DFS(start)"
      ]
    },
    {
      "cell_type": "markdown",
      "metadata": {
        "id": "_WEj8tKl2jOw"
      },
      "source": [
        "Best First Search"
      ]
    },
    {
      "cell_type": "code",
      "execution_count": 7,
      "metadata": {
        "colab": {
          "base_uri": "https://localhost:8080/"
        },
        "id": "-FwgnarI2mma",
        "outputId": "32b3c868-5ac8-40b1-f148-685cdfbbe702"
      },
      "outputs": [
        {
          "name": "stdout",
          "output_type": "stream",
          "text": [
            "0 1 3 2 8 9 \n"
          ]
        }
      ],
      "source": [
        "from queue import PriorityQueue\n",
        "v = 14\n",
        "graph = [[] for i in range(v)]\n",
        "\n",
        "def best_first_search(actual_Src, target, n):\n",
        "\tvisited = [False] * n\n",
        "\tpq = PriorityQueue()\n",
        "\tpq.put((0, actual_Src))\n",
        "\tvisited[actual_Src] = True\n",
        "\t\n",
        "\twhile pq.empty() == False:\n",
        "\t\tu = pq.get()[1]\n",
        "\t\tprint(u, end=\" \")\n",
        "\t\tif u == target:\n",
        "\t\t\tbreak\n",
        "\n",
        "\t\tfor v, c in graph[u]:\n",
        "\t\t\tif visited[v] == False:\n",
        "\t\t\t\tvisited[v] = True\n",
        "\t\t\t\tpq.put((c, v))\n",
        "\tprint()\n",
        "\n",
        "def addedge(x, y, cost):\n",
        "\tgraph[x].append((y, cost))\n",
        "\tgraph[y].append((x, cost))\n",
        "\n",
        "addedge(0, 1, 3)\n",
        "addedge(0, 2, 6)\n",
        "addedge(0, 3, 5)\n",
        "addedge(1, 4, 9)\n",
        "addedge(1, 5, 8)\n",
        "addedge(2, 6, 12)\n",
        "addedge(2, 7, 14)\n",
        "addedge(3, 8, 7)\n",
        "addedge(8, 9, 5)\n",
        "addedge(8, 10, 6)\n",
        "addedge(9, 11, 1)\n",
        "addedge(9, 12, 10)\n",
        "addedge(9, 13, 2)\n",
        "\n",
        "source = 0\n",
        "target = 9\n",
        "best_first_search(source, target, v)"
      ]
    },
    {
      "cell_type": "markdown",
      "metadata": {},
      "source": [
        "Djikstra's algorithm (Informed)"
      ]
    },
    {
      "cell_type": "code",
      "execution_count": null,
      "metadata": {},
      "outputs": [],
      "source": [
        "def dijkstra(graph, start):\n",
        "    distances = {node: float('inf') for node in graph}\n",
        "    visited = set()\n",
        "    distances[start] = 0\n",
        "\n",
        "    while len(visited) < len(graph):\n",
        "        min_node = None\n",
        "        for node in graph:\n",
        "            if node not in visited and (min_node is None or distances[node] < distances[min_node]):\n",
        "                min_node = node\n",
        "\n",
        "        if distances[min_node] == float('inf'):\n",
        "            break\n",
        "\n",
        "        visited.add(min_node)\n",
        "\n",
        "        for neighbor, weight in graph[min_node].items():\n",
        "            if distances[min_node] + weight < distances[neighbor]:\n",
        "                distances[neighbor] = distances[min_node] + weight\n",
        "\n",
        "    return distances\n",
        "\n",
        "graph = {\n",
        "    'A': {'B': 1, 'C': 4},\n",
        "    'B': {'A': 1, 'C': 2, 'D': 5},\n",
        "    'C': {'A': 4, 'B': 2, 'D': 1},\n",
        "    'D': {'B': 5, 'C': 1}\n",
        "}\n",
        "\n",
        "start_node = 'A'\n",
        "shortest_distances = dijkstra(graph, start_node)\n",
        "print(\"Shortest distances from node\", start_node, \"to all other nodes:\")\n",
        "for node, distance in shortest_distances.items():\n",
        "    print(f\"To node {node}: {distance}\")"
      ]
    },
    {
      "cell_type": "markdown",
      "metadata": {
        "id": "L20xS_TV3hK2"
      },
      "source": [
        "Minimax Algorithm"
      ]
    },
    {
      "cell_type": "code",
      "execution_count": null,
      "metadata": {
        "colab": {
          "base_uri": "https://localhost:8080/"
        },
        "id": "-G24wB7E3jC5",
        "outputId": "5da920ca-4273-496e-dac1-0731be7c5275"
      },
      "outputs": [
        {
          "name": "stdout",
          "output_type": "stream",
          "text": [
            "Enter number of scores (must be a power of 2): 8\n",
            "Enter the scores\n",
            "3\n",
            "5\n",
            "2\n",
            "9\n",
            "12\n",
            "5\n",
            "23\n",
            "23\n",
            "The optimal value is : 12\n"
          ]
        }
      ],
      "source": [
        "import math\n",
        "\n",
        "def minimax (curDepth, nodeIndex, maxTurn, scores, targetDepth):\n",
        "\n",
        "\tif (curDepth == targetDepth):\n",
        "\t\treturn scores[nodeIndex]\n",
        "\n",
        "\tif (maxTurn):\n",
        "\t\treturn max(minimax(curDepth + 1, nodeIndex * 2, False, scores, targetDepth),\n",
        "\t\t\t\tminimax(curDepth + 1, nodeIndex * 2 + 1, False, scores, targetDepth))\n",
        "\n",
        "\telse:\n",
        "\t\treturn min(minimax(curDepth + 1, nodeIndex * 2, True, scores, targetDepth),\n",
        "\t\t\t\tminimax(curDepth + 1, nodeIndex * 2 + 1, True, scores, targetDepth))\n",
        "\n",
        "scores = []\n",
        "n = int(input(\"Enter number of scores (must be a power of 2): \"))\n",
        "print(\"Enter the scores\")\n",
        "for i in range(n):\n",
        "  scores.append(int(input()))\n",
        "\n",
        "treeDepth = math.log(len(scores), 2)\n",
        "\n",
        "print(\"The optimal value is : \", end = \"\")\n",
        "print(minimax(0, 0, True, scores, treeDepth))"
      ]
    },
    {
      "cell_type": "markdown",
      "metadata": {
        "id": "jWSCmw4A5Rwf"
      },
      "source": [
        "Hill Climbing Algorithm"
      ]
    },
    {
      "cell_type": "code",
      "execution_count": 8,
      "metadata": {
        "colab": {
          "base_uri": "https://localhost:8080/"
        },
        "id": "D6W22Bn55UuY",
        "outputId": "52afa5d0-a0d1-4c21-a64c-f3b868d34fb8"
      },
      "outputs": [
        {
          "name": "stdout",
          "output_type": "stream",
          "text": [
            "Initial Solution: -2.641135875703262\n",
            "Optimal Solution: -0.041135875703260855\n",
            "Optimal Value: -0.0016921602698741268\n"
          ]
        }
      ],
      "source": [
        "import random\n",
        "\n",
        "def f(x):\n",
        "    return -x**2\n",
        "\n",
        "def generate_neighbors(x, step_size=0.1):\n",
        "    return [x + step_size, x - step_size]\n",
        "\n",
        "def hill_climbing(f, x0, max_iterations=100):\n",
        "    x = x0\n",
        "    for _ in range(max_iterations):\n",
        "        neighbors = generate_neighbors(x)\n",
        "        best_neighbor = max(neighbors, key=f)\n",
        "        if f(best_neighbor) <= f(x):\n",
        "            return x\n",
        "        x = best_neighbor\n",
        "    return x\n",
        "\n",
        "initial_solution = random.uniform(-10, 10)\n",
        "\n",
        "optimal_solution = hill_climbing(f, initial_solution)\n",
        "\n",
        "print(\"Initial Solution:\", initial_solution)\n",
        "print(\"Optimal Solution:\", optimal_solution)\n",
        "print(\"Optimal Value:\", f(optimal_solution))"
      ]
    }
  ],
  "metadata": {
    "colab": {
      "provenance": []
    },
    "kernelspec": {
      "display_name": "Python 3",
      "name": "python3"
    },
    "language_info": {
      "codemirror_mode": {
        "name": "ipython",
        "version": 3
      },
      "file_extension": ".py",
      "mimetype": "text/x-python",
      "name": "python",
      "nbconvert_exporter": "python",
      "pygments_lexer": "ipython3",
      "version": "3.12.0"
    }
  },
  "nbformat": 4,
  "nbformat_minor": 0
}
